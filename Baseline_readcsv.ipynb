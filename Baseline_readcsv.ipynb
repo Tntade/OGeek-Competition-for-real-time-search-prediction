{
 "cells": [
  {
   "cell_type": "markdown",
   "metadata": {},
   "source": [
    "'''\n",
    "在这个notebook里分享关于数据读取尤其是query_prediction字段的使用，\n",
    "希望可以帮助到大家\n",
    "'''"
   ]
  },
  {
   "cell_type": "code",
   "execution_count": null,
   "metadata": {},
   "outputs": [],
   "source": [
    "import pandas as pd\n",
    "train_file = 'datalab/4358/oppo_round1_train_20180926/oppo_round1_train_20180926.txt'\n",
    "train_df = pd.read_csv(train_file, sep='\\t', \n",
    "                       header=None,names=['prefix', 'query_prediction', 'title', 'tag', 'label'])\n",
    "train_df.head()"
   ]
  },
  {
   "cell_type": "code",
   "execution_count": null,
   "metadata": {},
   "outputs": [],
   "source": [
    "#split query_prediction to list\n",
    "def split_prediction(text):\n",
    "    if pd.isna(text): \n",
    "        return []\n",
    "    return [s.strip() for s in text.replace(\"{\", \"\").replace(\"}\", \"\").split(\",\")]\n",
    "train_df['pred_list'] = train_df['query_prediction'].apply(split_prediction)\n",
    "train_df['pred_len'] = train_df['pred_list'].apply(len)\n",
    "train_df['pred_len'].value_counts()\n",
    "\n",
    "# \",\" in string cause bad split\n",
    "train_df[train_df['pred_len'] > 11].iloc[0,:].values\n",
    "\n",
    "preds = pd.DataFrame(train_df['pred_list'].values.tolist(), columns=['pred_' + str(x) for x in range(15)])\n",
    "preds.head()\n",
    "\n",
    "print(\"train set size:\", train_df.shape, \"preds shape:\", preds.shape)\n",
    "\n",
    "train_df_with_pred = pd.concat([train_df, preds], axis=1)\n",
    "train_df_with_pred.head()"
   ]
  }
 ],
 "metadata": {
  "kernelspec": {
   "display_name": "Python 3",
   "language": "python",
   "name": "python3"
  },
  "language_info": {
   "codemirror_mode": {
    "name": "ipython",
    "version": 3
   },
   "file_extension": ".py",
   "mimetype": "text/x-python",
   "name": "python",
   "nbconvert_exporter": "python",
   "pygments_lexer": "ipython3",
   "version": "3.6.4"
  }
 },
 "nbformat": 4,
 "nbformat_minor": 2
}
