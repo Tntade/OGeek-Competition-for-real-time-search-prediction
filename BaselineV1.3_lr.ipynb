{
 "cells": [
  {
   "cell_type": "markdown",
   "metadata": {},
   "source": [
    "#### 2018/11/1<br>V1.0_0.6231<br>因为在计算ctr的时候是使用了data.groupby().agg()的，所以过拟合现象严重！"
   ]
  },
  {
   "cell_type": "markdown",
   "metadata": {},
   "source": [
    "#### <font color=red>2018/11/2<br>V1.2_0.7128<br>1.建立在V1.0版本上；<br>2.将data.groupby.agg改成了traindf.grouby.agg，因为data中有一部分的label是-1，所以对成绩产生了非常大的噪声；<br>3.将点击与否的界限从0.5改成了0.4；<br>4.将原先使用lgb.train改成了LGBMClassifier.fit，但是对成绩本身的影响应该不是特别大；<font>  "
   ]
  },
  {
   "cell_type": "markdown",
   "metadata": {},
   "source": [
    "#### <font color=green>2018/11/3<br>V1.3<br>1.建立在V1.2的基础上；<br>1.对于部分0值变量重新赋予一个新值-1，从而方便使用scaler；<br>2.使用LogisticRegressor进行训练；<font>"
   ]
  },
  {
   "cell_type": "code",
   "execution_count": 1,
   "metadata": {},
   "outputs": [
    {
     "data": {
      "text/plain": [
       "0"
      ]
     },
     "execution_count": 1,
     "metadata": {},
     "output_type": "execute_result"
    }
   ],
   "source": [
    "import numpy as np\n",
    "import pandas as pd\n",
    "import warnings\n",
    "warnings.filterwarnings('ignore')\n",
    "import gc\n",
    "gc.collect()"
   ]
  },
  {
   "cell_type": "code",
   "execution_count": 2,
   "metadata": {},
   "outputs": [],
   "source": [
    "data=pd.read_csv('../data/data.csv')"
   ]
  },
  {
   "cell_type": "code",
   "execution_count": 3,
   "metadata": {},
   "outputs": [
    {
     "data": {
      "text/plain": [
       "(2099998, 5)"
      ]
     },
     "execution_count": 3,
     "metadata": {},
     "output_type": "execute_result"
    }
   ],
   "source": [
    "data.shape"
   ]
  },
  {
   "cell_type": "code",
   "execution_count": 4,
   "metadata": {},
   "outputs": [],
   "source": [
    "data['query_len']=data['query'].apply(lambda x:len(x.replace('{','').replace('}','').split(',')))\n",
    "# print(data[data['label']!=-1].groupby('query_len')['label'].mean())\n",
    "# print('====================')\n",
    "data['prefix_len']=data['prefix'].apply(lambda x:len(str(x)))\n",
    "# print(data[data['label']!=-1].groupby('prefix_len')['label'].mean())\n",
    "# print('====================')\n",
    "data['title_len']=data['title'].apply(lambda x:len(str(x)))\n",
    "# print(data[data['label']!=-1].groupby('title_len')['label'].mean())\n",
    "# print('====================')"
   ]
  },
  {
   "cell_type": "code",
   "execution_count": 5,
   "metadata": {},
   "outputs": [
    {
     "data": {
      "text/plain": [
       "21"
      ]
     },
     "execution_count": 5,
     "metadata": {},
     "output_type": "execute_result"
    }
   ],
   "source": [
    "gc.collect()"
   ]
  },
  {
   "cell_type": "code",
   "execution_count": 6,
   "metadata": {},
   "outputs": [],
   "source": [
    "from sklearn.preprocessing import LabelEncoder\n",
    "le=LabelEncoder()\n",
    "lr_col=['prefix','title','tag','query']\n",
    "for feature in lr_col:\n",
    "    data[feature]=data[feature].astype(str)\n",
    "\n",
    "data['prefix']=le.fit_transform(data['prefix'])\n",
    "data['title']=le.fit_transform(data['title'])\n",
    "data['query']=le.fit_transform(data['query'])\n",
    "data['tag']=le.fit_transform(data['tag'])"
   ]
  },
  {
   "cell_type": "code",
   "execution_count": 7,
   "metadata": {},
   "outputs": [
    {
     "name": "stdout",
     "output_type": "stream",
     "text": [
      "(2049998, 8)\n",
      "(50000, 8)\n"
     ]
    }
   ],
   "source": [
    "traindf=data[data['label']!=-1]\n",
    "testdf=data[data['label']==-1]\n",
    "print(traindf.shape)\n",
    "print(testdf.shape)"
   ]
  },
  {
   "cell_type": "code",
   "execution_count": 8,
   "metadata": {},
   "outputs": [],
   "source": [
    "col=['prefix','query','title','tag','query_len','title_len']\n",
    "for item in col:\n",
    "    temp=traindf.groupby(item,as_index=False)['label'].agg({item+'_click':'sum',item+'_count':'count'})\n",
    "    temp[item+'_ctr']=(temp[item+'_click']/temp[item+'_count'])\n",
    "    traindf = pd.merge(traindf, temp, on=item, how='left')\n",
    "    testdf=pd.merge(testdf,temp,on=item,how='left')"
   ]
  },
  {
   "cell_type": "code",
   "execution_count": 9,
   "metadata": {},
   "outputs": [],
   "source": [
    "for i in range(len(col)):\n",
    "    for j in range(i+1,len(col)):\n",
    "        item_g=[col[i],col[j]]\n",
    "        temp=traindf.groupby(item_g,as_index=False)['label'].agg({'_'.join(item_g)+'_click':'sum','_'.join(item_g)+'_count':'count'})\n",
    "        temp['_'.join(item_g)+'_ctr']=temp['_'.join(item_g)+'_click']/(temp['_'.join(item_g)+'_count']+3)\n",
    "        traindf=pd.merge(traindf,temp,on=item_g,how='left')\n",
    "        testdf=pd.merge(testdf,temp,on=item_g,how='left')"
   ]
  },
  {
   "cell_type": "code",
   "execution_count": 10,
   "metadata": {},
   "outputs": [
    {
     "name": "stdout",
     "output_type": "stream",
     "text": [
      "(2049998, 71) (50000, 71)\n"
     ]
    }
   ],
   "source": [
    "print(traindf.shape,testdf.shape)"
   ]
  },
  {
   "cell_type": "code",
   "execution_count": 11,
   "metadata": {},
   "outputs": [],
   "source": [
    "for fea in testdf.columns:\n",
    "    testdf.loc[testdf[fea].isnull(),fea]=-1"
   ]
  },
  {
   "cell_type": "markdown",
   "metadata": {},
   "source": [
    "# ===========Train==============="
   ]
  },
  {
   "cell_type": "code",
   "execution_count": 12,
   "metadata": {},
   "outputs": [],
   "source": [
    "from sklearn.linear_model import LogisticRegression\n",
    "from sklearn.preprocessing import MinMaxScaler\n",
    "from sklearn.ensemble import BaggingRegressor\n",
    "from sklearn.model_selection import StratifiedKFold\n",
    "from sklearn.metrics import f1_score\n",
    "\n",
    "testddf=testdf.drop(['label'],axis=1)\n",
    "\n",
    "y=traindf.pop('label').values\n",
    "\n",
    "X=traindf.as_matrix()\n",
    "testX=testddf.as_matrix()\n",
    "\n",
    "mm=MinMaxScaler()\n",
    "X=mm.fit_transform(X)\n",
    "testX=mm.transform(testX)"
   ]
  },
  {
   "cell_type": "code",
   "execution_count": 13,
   "metadata": {},
   "outputs": [],
   "source": [
    "sub_train=pd.DataFrame()\n",
    "sub_test=pd.DataFrame()\n",
    "model=LogisticRegression(penalty='l2', dual=False, tol=0.0001, C=0.08, random_state=1,\n",
    "                            solver='liblinear', max_iter=100,verbose=1)\n",
    "\n",
    "# model=BaggingRegressor(clf,n_estimators=2000, max_samples=0.8, \n",
    "#                        max_features=1.0, bootstrap=True, \n",
    "#                        bootstrap_features=False, n_jobs=-1)"
   ]
  },
  {
   "cell_type": "code",
   "execution_count": 14,
   "metadata": {},
   "outputs": [
    {
     "name": "stdout",
     "output_type": "stream",
     "text": [
      "Fold=0\n",
      "[LibLinear]f1 in train set: 0.7857280016450476\n",
      "f1 in test set: 0.7865267913026914\n",
      "Fold=1\n",
      "[LibLinear]f1 in train set: 0.785658990913077\n",
      "f1 in test set: 0.786928744922744\n",
      "Fold=2\n",
      "[LibLinear]f1 in train set: 0.7858141915543816\n",
      "f1 in test set: 0.7855366340939671\n",
      "Fold=3\n",
      "[LibLinear]f1 in train set: 0.7859385074252317\n",
      "f1 in test set: 0.7841156610760184\n",
      "Fold=4\n",
      "[LibLinear]f1 in train set: 0.7858188328222621\n",
      "f1 in test set: 0.7855238820585356\n",
      "Fold=5\n",
      "[LibLinear]f1 in train set: 0.7858597968286891\n",
      "f1 in test set: 0.7851991091678076\n",
      "Fold=6\n",
      "[LibLinear]f1 in train set: 0.7856910652697536\n",
      "f1 in test set: 0.7862614114093686\n",
      "Fold=7\n",
      "[LibLinear]f1 in train set: 0.7858813462204262\n",
      "f1 in test set: 0.7848794069394618\n",
      "Fold=8\n",
      "[LibLinear]f1 in train set: 0.7857494957192842\n",
      "f1 in test set: 0.786403082547859\n",
      "Fold=9\n",
      "[LibLinear]f1 in train set: 0.7857168773602876\n",
      "f1 in test set: 0.7864028066351033\n",
      "mean f1 in train set:0.78579\n",
      "mean f1 in val set:0.78578\n"
     ]
    }
   ],
   "source": [
    "N=10\n",
    "skf=StratifiedKFold(n_splits=N,random_state=1,shuffle=True)\n",
    "ft=0\n",
    "fv=0\n",
    "for i,(train_index,test_index) in enumerate(skf.split(X,y)):\n",
    "    print(\"Fold=%s\"%i)\n",
    "    model.fit(X[train_index],y[train_index])\n",
    "    train_pred=model.predict(X[train_index])\n",
    "    trainf=f1_score(y[train_index],train_pred)\n",
    "    print(\"f1 in train set:\",trainf)\n",
    "    ft+=trainf\n",
    "    \n",
    "    val_pred=model.predict(X[test_index])\n",
    "    valf=f1_score(y[test_index],val_pred)\n",
    "    print(\"f1 in test set:\",valf)\n",
    "    fv+=valf\n",
    "    \n",
    "    train_all=model.predict_proba(X)[:,1]\n",
    "    sub_train['ans_%s'%i]=train_all\n",
    "    \n",
    "    test_proba=model.predict_proba(testX)[:,1]\n",
    "    sub_test['ans_%s'%str(i)]=test_proba\n",
    "print(\"mean f1 in train set:%.5f\"%(ft/N))\n",
    "print(\"mean f1 in val set:%.5f\"%(fv/N))"
   ]
  },
  {
   "cell_type": "code",
   "execution_count": 15,
   "metadata": {},
   "outputs": [],
   "source": [
    "sub_train['label']=0\n",
    "for i in range(N):\n",
    "    sub_train['label']+=sub_train['ans_%s'%str(i)]\n",
    "sub_train['label']=sub_train['label']/N"
   ]
  },
  {
   "cell_type": "code",
   "execution_count": 16,
   "metadata": {},
   "outputs": [],
   "source": [
    "sub_test['label']=0\n",
    "for i in range(N):\n",
    "    sub_test['label']+=sub_test['ans_%s'%str(i)]\n",
    "sub_test['label']=sub_test['label']/N"
   ]
  },
  {
   "cell_type": "code",
   "execution_count": 18,
   "metadata": {},
   "outputs": [
    {
     "name": "stdout",
     "output_type": "stream",
     "text": [
      "(2049998, 11) (50000, 11)\n"
     ]
    }
   ],
   "source": [
    "print(sub_train.shape,sub_test.shape)"
   ]
  },
  {
   "cell_type": "code",
   "execution_count": 20,
   "metadata": {},
   "outputs": [],
   "source": [
    "sub_train['label'].to_csv('../data/ensemble/lr_train.csv',index=True)\n",
    "sub_test['label'].to_csv('../data/ensemble/lr_test.csv',index=True)"
   ]
  },
  {
   "cell_type": "code",
   "execution_count": null,
   "metadata": {},
   "outputs": [],
   "source": []
  }
 ],
 "metadata": {
  "kernelspec": {
   "display_name": "Python 3",
   "language": "python",
   "name": "python3"
  },
  "language_info": {
   "codemirror_mode": {
    "name": "ipython",
    "version": 3
   },
   "file_extension": ".py",
   "mimetype": "text/x-python",
   "name": "python",
   "nbconvert_exporter": "python",
   "pygments_lexer": "ipython3",
   "version": "3.6.4"
  }
 },
 "nbformat": 4,
 "nbformat_minor": 2
}
