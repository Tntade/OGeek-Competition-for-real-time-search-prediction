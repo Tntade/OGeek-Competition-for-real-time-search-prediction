{
 "cells": [
  {
   "cell_type": "code",
   "execution_count": 3,
   "metadata": {},
   "outputs": [
    {
     "data": {
      "text/plain": [
       "0"
      ]
     },
     "execution_count": 3,
     "metadata": {},
     "output_type": "execute_result"
    }
   ],
   "source": [
    "import numpy as np\n",
    "import pandas as pd\n",
    "import warnings\n",
    "warnings.filterwarnings('ignore')\n",
    "import gc\n",
    "gc.collect()"
   ]
  },
  {
   "cell_type": "code",
   "execution_count": 4,
   "metadata": {},
   "outputs": [],
   "source": [
    "traindf=pd.read_csv('../data/train.txt',sep='\\t',header=None,names=['prefix', 'query', 'title', 'tag', 'label'])\n",
    "validf=pd.read_csv('../data/vali.txt',sep='\\t',header=None,names=['prefix','query','title','tag','label'])\n",
    "test=pd.read_csv('../data/test.txt',sep='\\t',header=None,names=['prefix','query','title','tag'])"
   ]
  },
  {
   "cell_type": "code",
   "execution_count": 5,
   "metadata": {},
   "outputs": [
    {
     "name": "stdout",
     "output_type": "stream",
     "text": [
      "(1999999, 5)\n",
      "(50000, 5)\n",
      "(50000, 4)\n"
     ]
    }
   ],
   "source": [
    "print(traindf.shape)\n",
    "print(validf.shape)\n",
    "print(test.shape)"
   ]
  },
  {
   "cell_type": "code",
   "execution_count": 8,
   "metadata": {},
   "outputs": [],
   "source": [
    "# print(traindf.info())\n",
    "# print(validf.info())\n",
    "# print(test.info())"
   ]
  },
  {
   "cell_type": "code",
   "execution_count": 22,
   "metadata": {},
   "outputs": [],
   "source": [
    "df=validf.groupby(['prefix','query'])['label'].agg(['sum','mean'])"
   ]
  },
  {
   "cell_type": "markdown",
   "metadata": {},
   "source": [
    "### 越生僻的查询，点击率更高；<br>prefix查询次数越少，点击率更高；（想到了DF/IDF特征）<br>prefix作为标签进行LabelCoder编码;<br>"
   ]
  },
  {
   "cell_type": "markdown",
   "metadata": {},
   "source": [
    "### Query编码；query中含有的词条长度；query中空集作为新的特征，长度赋值为0；query中点击概率相加；<br>query中除了prefix外的词语中的动词、名词、形容词的个数；query中词条之间的相似度；每一条词条对应的字数，将词条字数与点击率组成元组；"
   ]
  },
  {
   "cell_type": "code",
   "execution_count": 23,
   "metadata": {},
   "outputs": [
    {
     "name": "stdout",
     "output_type": "stream",
     "text": [
      "                                                           sum      mean\n",
      "prefix query                                                            \n",
      "#      {\"#*\": \"0.065\", \"#什么意思\": \"0.065\", \"#n/a是什么意思\": ...    1  1.000000\n",
      ".      {\".com白小姐传密\": \"0.026\", \".的那一刻\": \"0.027\", \".net\"...    6  0.500000\n",
      ".b     {\".bak\": \"0.042\", \".bat是什么文件\": \"0.049\", \".bak是什...    0  0.000000\n",
      ".cn    {\".cn是什么意思和.com\": \"0.042\", \".cn我的世界种子\": \"0.072\"...    1  0.166667\n",
      ".com   {\".com星期六高手论坛\": \"0.022\", \".com白小姐传密\": \"0.064\", ...    1  0.333333\n",
      ".火车票   {\".火车票app\": \"0.007\", \".火车票新闻\": \"0.027\", \".火车票一\"...    0  0.000000\n",
      "0.1g   {\"0.1g等于多少毫升\": \"0.004\", \"0.1g等于多少mg\": \"0.757\", ...    0  0.000000\n",
      "0.618  {\"0.618黄金比例\": \"0.016\", \"0.618黄金比例计算步骤\": \"0.081\"...    0  0.000000\n",
      "05网    {\"05网练习与测试答案\": \"0.007\", \"05网补充习题答案\": \"0.016\", \"...    1  0.500000\n",
      "07款天籁  {\"07款天籁230jk通病\": \"0.590\"}                             0  0.000000\n",
      "0岁早教   {}                                                    0  0.000000\n",
      "1      {\"168开奖现场\": \"0.007\", \"18图库\": \"0.006\", \"12306网上订...    0  0.000000\n",
      "1.5l   {\"1.5l车型\": \"0.021\", \"1.5l跟1.5t哪个好油\": \"0.020\", \"...    1  1.000000\n",
      "10010  {\"10010网上营业厅官网\": \"0.035\", \"10010通话详单查询\": \"0.022...    0  0.000000\n",
      "10085  {\"10085是诈骗号码吗\": \"0.007\", \"10085是什么电话服务\": \"0.024...    4  0.444444\n",
      "10086  {\"10086人工服务\": \"0.052\", \"1008611\": \"0.013\", \"100...    2  1.000000\n",
      "100以   {\"100以内加减法\": \"0.211\", \"100以内加减法口算题\": \"0.033\", \"...    0  0.000000\n",
      "100以内  {\"100以内加减法\": \"0.213\", \"100以内加减法口算题\": \"0.034\", \"...    1  0.500000\n",
      "100米   {\"100米世界纪录\": \"0.192\", \"100米一般人多少秒\": \"0.016\", \"1...    1  1.000000\n",
      "1040   {\"1040阳光工程正面报道\": \"0.058\", \"1040传销为什么没人查\": \"0.08...    0  0.000000\n",
      "107医院  {\"107医院妇科\": \"0.075\", \"107医院咨询电话\": \"0.082\", \"107...    0  0.000000\n",
      "1080ti {\"1080ti显卡\": \"0.042\", \"1080ti多少钱\": \"0.020\", \"10...    1  1.000000\n",
      "10以内   {\"10以内的质数\": \"0.015\", \"10以内加减法题目\": \"0.026\", \"10以...    0  0.000000\n",
      "114    {\"114查询网\": \"0.023\", \"114任务平台\": \"0.022\", \"114查违章...    0  0.000000\n",
      "11处    {\"11处特工皇妃有声小说\": \"0.011\", \"11处特工皇妃小说\": \"0.030\", ...    0  0.000000\n",
      "11对    {\"11对着电脑有个p意思\": \"0.252\", \"11对战平台游戏路径\": \"0.028\",...    0  0.000000\n",
      "11选    {\"11选5无死角每期必中\": \"0.011\", \"11选五开奖结果\": \"0.184\", \"...    0  0.000000\n",
      "11选5   {\"11选5无死角每期必中\": \"0.029\", \"11选5最聪明的玩法\": \"0.015\",...    0  0.000000\n",
      "12     {\"12306官网\": \"0.028\", \"126邮箱\": \"0.017\", \"123交管官网...    2  0.333333\n",
      "121    {\"12110\": \"0.034\", \"12123预约考试\": \"0.011\", \"12123...    0  0.000000\n",
      "...                                                        ...       ...\n",
      "龙腾小说   {\"龙腾小说网 三嫂\": \"0.013\", \"龙腾小说改名叫什么了\": \"0.008\", \"龙...    0  0.000000\n",
      "龙腾小说网  {\"龙腾小说网手机版\": \"0.013\", \"龙腾小说网三嫂\": \"0.013\", \"龙腾小说...    1  0.500000\n",
      "龙舌     {\"龙舌兰属\": \"0.037\", \"龙舌草\": \"0.019\", \"龙舌兰酒怎么喝\": \"0...    0  0.000000\n",
      "龙舌兰    {\"龙舌兰属\": \"0.042\", \"龙舌兰酒怎么喝\": \"0.024\", \"龙舌兰和芦荟的区...    0  0.000000\n",
      "龙葵     {\"龙葵同人\": \"0.010\", \"龙葵穿越古剑奇谭\": \"0.007\", \"龙葵草\": \"...    3  1.000000\n",
      "龙虎斗    {\"龙虎斗阅读答案\": \"0.012\", \"龙虎斗怎么玩才赢钱\": \"0.029\", \"龙虎斗...    0  0.000000\n",
      "龙血战    {\"龙血战神 风青阳 小说\": \"0.047\", \"龙血战神龙辰\": \"0.017\", \"龙血...    1  1.000000\n",
      "龙血战神   {\"龙血战神小说\": \"0.027\", \"龙血战神龙辰\": \"0.017\", \"龙血战神百度云...    0  0.000000\n",
      "龙血树    {\"龙血树属\": \"0.026\", \"龙血树怎么养\": \"0.016\", \"龙血树叶子尖发黄干...    0  0.000000\n",
      "龙血武帝   {\"龙血武帝txt下载\": \"0.004\", \"龙血武帝笔趣阁无弹窗\": \"0.006\", \"...    0  0.000000\n",
      "龙角散    {\"龙角散三个颜色的区别\": \"0.012\", \"龙角散怎么吃\": \"0.061\", \"龙角散...    0  0.000000\n",
      "龙门水    {\"龙门水都门票多少钱\": \"0.168\", \"龙门水库\": \"0.032\", \"龙门水库有什...    1  1.000000\n",
      "龙门飞甲   {\"龙门飞甲电视剧在线看\": \"0.005\", \"龙门飞甲电视剧\": \"0.068\", \"龙门...    0  0.000000\n",
      "龙须     {\"龙须菜的做法\": \"0.036\", \"龙须凤爪\": \"0.082\", \"龙须草\": \"0....    1  1.000000\n",
      "龙魂战    {\"龙魂战神 小说\": \"0.030\", \"龙魂战兵\": \"0.022\", \"龙魂战尊 小说\"...    1  1.000000\n",
      "龙鹿     {\"龙鹿丸\": \"0.288\", \"龙鹿丸价格\": \"0.031\", \"龙鹿胶囊\": \"0.2...    0  0.000000\n",
      "龚自     {\"龚自珍简介\": \"0.058\", \"龚自珍《己亥杂诗》\": \"0.017\", \"龚自珍是哪...    1  1.000000\n",
      "龟      {\"龟头\": \"0.019\", \"龟苓膏的功效与作用\": \"0.023\", \"龟头炎\": \"0...    0  0.000000\n",
      "龟兔赛跑   {\"龟兔赛跑的寓意\": \"0.012\", \"龟兔赛跑简笔画\": \"0.040\", \"龟兔赛跑图...    0  0.000000\n",
      "龟兹     {\"龟兹怎么读\": \"0.237\", \"龟兹读音\": \"0.013\", \"龟兹古城遗址旅游\":...    0  0.000000\n",
      "龟头     {\"龟头炎\": \"0.072\", \"龟头炎症状\": \"0.012\", \"龟头炎怎么治疗\": \"...    1  0.200000\n",
      "龟头上    {\"龟头上起红点是什么病\": \"0.008\", \"龟头上有小红点点图片\": \"0.008\", ...    0  0.000000\n",
      "龟头上有   {\"龟头上有小红点点图片\": \"0.011\", \"龟头上有白色癃点\": \"0.016\", \"龟...    1  1.000000\n",
      "龟头有    {\"龟头有白膜\": \"0.019\", \"龟头有小白粒\": \"0.033\", \"龟头有红点\": ...    2  1.000000\n",
      "龟头起    {\"龟头起水泡的图片\": \"0.023\", \"龟头起泡\": \"0.066\", \"龟头起皮不疼也...    1  1.000000\n",
      "龟板     {\"龟板的功效\": \"0.035\", \"龟板胶\": \"0.054\", \"龟板价格\": \"0.0...    2  1.000000\n",
      "龟背     {\"龟背叶\": \"0.022\", \"龟背石\": \"0.010\", \"龟背竹除甲醛吗\": \"0....    2  0.666667\n",
      "龟苓膏    {\"龟苓膏怎么吃\": \"0.008\", \"龟苓膏是什么做的\": \"0.008\", \"龟苓膏什么...    1  1.000000\n",
      "龟趺     {\"龟趺怎么读\": \"0.289\"}                                    1  1.000000\n",
      "龟龄集    {\"龟龄集怎么样\": \"0.024\", \"龟龄集适合什么人吃\": \"0.012\", \"龟龄集酒...    0  0.000000\n",
      "\n",
      "[23303 rows x 2 columns]\n"
     ]
    }
   ],
   "source": [
    "print(df)"
   ]
  },
  {
   "cell_type": "code",
   "execution_count": 12,
   "metadata": {},
   "outputs": [
    {
     "name": "stdout",
     "output_type": "stream",
     "text": [
      "0.3717\n"
     ]
    }
   ],
   "source": [
    "print(validf['label'].mean())"
   ]
  },
  {
   "cell_type": "code",
   "execution_count": 15,
   "metadata": {},
   "outputs": [
    {
     "name": "stdout",
     "output_type": "stream",
     "text": [
      "0.3720978720978721\n"
     ]
    }
   ],
   "source": [
    "traindf=traindf[traindf['label']!='音乐']\n",
    "traindf['label']=traindf['label'].astype(int)\n",
    "print(traindf['label'].mean())"
   ]
  },
  {
   "cell_type": "code",
   "execution_count": null,
   "metadata": {},
   "outputs": [],
   "source": [
    "from sklearn.cross_validation import train_test_split\n",
    "如何进行随机采样呢？"
   ]
  },
  {
   "cell_type": "code",
   "execution_count": 78,
   "metadata": {},
   "outputs": [],
   "source": [
    "train.loc[train.prefix.isnull(),'prefix']='null'"
   ]
  },
  {
   "cell_type": "code",
   "execution_count": 79,
   "metadata": {},
   "outputs": [
    {
     "name": "stdout",
     "output_type": "stream",
     "text": [
      "(2049998, 5)\n",
      "(50000, 4)\n"
     ]
    }
   ],
   "source": [
    "# for fea in train.columns:\n",
    "#     print(train[fea].value_counts())\n",
    "train=train[train['label']!='音乐']\n",
    "print(train.shape)\n",
    "print(test.shape)"
   ]
  },
  {
   "cell_type": "code",
   "execution_count": 80,
   "metadata": {},
   "outputs": [],
   "source": [
    "col=[i for i in train.columns if i not in ['label']]\n",
    "for fea in col:\n",
    "    train[fea]=train[fea].astype(str)\n",
    "    test[fea]=test[fea].astype(str)"
   ]
  },
  {
   "cell_type": "code",
   "execution_count": 81,
   "metadata": {},
   "outputs": [
    {
     "name": "stdout",
     "output_type": "stream",
     "text": [
      " 0    1287218\n",
      " 1     762780\n",
      "-1      50000\n",
      "Name: label, dtype: int64\n"
     ]
    }
   ],
   "source": [
    "train['label']=train['label'].astype(int)\n",
    "test['label']=-1\n",
    "test['label']=test['label'].astype(int)\n",
    "data=pd.concat([train,test],axis=0)\n",
    "print(data.label.value_counts())"
   ]
  },
  {
   "cell_type": "code",
   "execution_count": 84,
   "metadata": {},
   "outputs": [],
   "source": [
    "data.to_csv('./data/data.csv',index=False)"
   ]
  },
  {
   "cell_type": "markdown",
   "metadata": {},
   "source": [
    "# ===========基本:删除没用的、补缺null============="
   ]
  },
  {
   "cell_type": "code",
   "execution_count": 85,
   "metadata": {},
   "outputs": [],
   "source": []
  },
  {
   "cell_type": "code",
   "execution_count": null,
   "metadata": {},
   "outputs": [],
   "source": []
  }
 ],
 "metadata": {
  "kernelspec": {
   "display_name": "Python 3",
   "language": "python",
   "name": "python3"
  },
  "language_info": {
   "codemirror_mode": {
    "name": "ipython",
    "version": 3
   },
   "file_extension": ".py",
   "mimetype": "text/x-python",
   "name": "python",
   "nbconvert_exporter": "python",
   "pygments_lexer": "ipython3",
   "version": "3.6.4"
  }
 },
 "nbformat": 4,
 "nbformat_minor": 2
}
